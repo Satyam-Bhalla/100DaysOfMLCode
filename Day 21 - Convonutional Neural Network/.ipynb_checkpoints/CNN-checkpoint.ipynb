{
 "cells": [
  {
   "cell_type": "code",
   "execution_count": 1,
   "metadata": {},
   "outputs": [
    {
     "name": "stderr",
     "output_type": "stream",
     "text": [
      "Using TensorFlow backend.\n"
     ]
    }
   ],
   "source": [
    "# Part 1 - Building the CNN\n",
    "# Importing the Keras libraries and packages\n",
    "from keras.models import Sequential\n",
    "from keras.layers import Convolution2D\n",
    "from keras.layers import MaxPooling2D\n",
    "from keras.layers import Flatten\n",
    "from keras.layers import Dense"
   ]
  },
  {
   "cell_type": "code",
   "execution_count": 2,
   "metadata": {},
   "outputs": [],
   "source": [
    "# Initialising the CNN\n",
    "classifier = Sequential()"
   ]
  },
  {
   "cell_type": "code",
   "execution_count": 3,
   "metadata": {},
   "outputs": [
    {
     "name": "stderr",
     "output_type": "stream",
     "text": [
      "c:\\users\\satyam\\appdata\\local\\programs\\python\\python36\\lib\\site-packages\\ipykernel_launcher.py:2: UserWarning: Update your `Conv2D` call to the Keras 2 API: `Conv2D(32, (3, 3), input_shape=(64, 64, 3..., activation=\"relu\")`\n",
      "  \n",
      "c:\\users\\satyam\\appdata\\local\\programs\\python\\python36\\lib\\site-packages\\ipykernel_launcher.py:8: UserWarning: Update your `Conv2D` call to the Keras 2 API: `Conv2D(32, (3, 3), activation=\"relu\")`\n",
      "  \n",
      "c:\\users\\satyam\\appdata\\local\\programs\\python\\python36\\lib\\site-packages\\ipykernel_launcher.py:15: UserWarning: Update your `Dense` call to the Keras 2 API: `Dense(activation=\"relu\", units=128)`\n",
      "  from ipykernel import kernelapp as app\n",
      "c:\\users\\satyam\\appdata\\local\\programs\\python\\python36\\lib\\site-packages\\ipykernel_launcher.py:16: UserWarning: Update your `Dense` call to the Keras 2 API: `Dense(activation=\"sigmoid\", units=1)`\n",
      "  app.launch_new_instance()\n"
     ]
    }
   ],
   "source": [
    "# Step 1 - Convolution\n",
    "classifier.add(Convolution2D(32, 3, 3, input_shape = (64, 64, 3), activation = 'relu'))\n",
    "\n",
    "# Step 2 - Pooling\n",
    "classifier.add(MaxPooling2D(pool_size = (2, 2)))\n",
    "\n",
    "# Adding a second convolutional layer\n",
    "classifier.add(Convolution2D(32, 3, 3, activation = 'relu'))\n",
    "classifier.add(MaxPooling2D(pool_size = (2, 2)))\n",
    "\n",
    "# Step 3 - Flattening\n",
    "classifier.add(Flatten())\n",
    "\n",
    "# Step 4 - Full connection\n",
    "classifier.add(Dense(output_dim = 128, activation = 'relu'))\n",
    "classifier.add(Dense(output_dim = 1, activation = 'sigmoid'))"
   ]
  },
  {
   "cell_type": "code",
   "execution_count": 4,
   "metadata": {},
   "outputs": [],
   "source": [
    "# Compiling the CNN\n",
    "classifier.compile(optimizer = 'adam', loss = 'binary_crossentropy', metrics = ['accuracy'])"
   ]
  },
  {
   "cell_type": "code",
   "execution_count": 5,
   "metadata": {},
   "outputs": [
    {
     "name": "stdout",
     "output_type": "stream",
     "text": [
      "Found 8000 images belonging to 2 classes.\n",
      "Found 2000 images belonging to 2 classes.\n"
     ]
    },
    {
     "name": "stderr",
     "output_type": "stream",
     "text": [
      "c:\\users\\satyam\\appdata\\local\\programs\\python\\python36\\lib\\site-packages\\ipykernel_launcher.py:26: UserWarning: The semantics of the Keras 2 argument `steps_per_epoch` is not the same as the Keras 1 argument `samples_per_epoch`. `steps_per_epoch` is the number of batches to draw from the generator at each epoch. Basically steps_per_epoch = samples_per_epoch/batch_size. Similarly `nb_val_samples`->`validation_steps` and `val_samples`->`steps` arguments have changed. Update your method calls accordingly.\n",
      "c:\\users\\satyam\\appdata\\local\\programs\\python\\python36\\lib\\site-packages\\ipykernel_launcher.py:26: UserWarning: Update your `fit_generator` call to the Keras 2 API: `fit_generator(<keras_pre..., validation_data=<keras_pre..., steps_per_epoch=250, epochs=25, validation_steps=2000)`\n"
     ]
    },
    {
     "name": "stdout",
     "output_type": "stream",
     "text": [
      "Epoch 1/25\n",
      "250/250 [==============================] - 561s 2s/step - loss: 0.6843 - acc: 0.5553 - val_loss: 0.6373 - val_acc: 0.6454\n",
      "Epoch 2/25\n",
      "250/250 [==============================] - 418s 2s/step - loss: 0.6114 - acc: 0.6693 - val_loss: 0.5703 - val_acc: 0.7095\n",
      "Epoch 3/25\n",
      "250/250 [==============================] - 319s 1s/step - loss: 0.5713 - acc: 0.6986 - val_loss: 0.5831 - val_acc: 0.6880\n",
      "Epoch 4/25\n",
      "250/250 [==============================] - 265s 1s/step - loss: 0.5344 - acc: 0.7264 - val_loss: 0.5267 - val_acc: 0.7450\n",
      "Epoch 5/25\n",
      "250/250 [==============================] - 254s 1s/step - loss: 0.5082 - acc: 0.7521 - val_loss: 0.4931 - val_acc: 0.7705\n",
      "Epoch 6/25\n",
      "250/250 [==============================] - 255s 1s/step - loss: 0.4886 - acc: 0.7642 - val_loss: 0.4841 - val_acc: 0.7742\n",
      "Epoch 7/25\n",
      "250/250 [==============================] - 248s 992ms/step - loss: 0.4738 - acc: 0.7752 - val_loss: 0.4786 - val_acc: 0.7769\n",
      "Epoch 8/25\n",
      "250/250 [==============================] - 248s 991ms/step - loss: 0.4685 - acc: 0.7741 - val_loss: 0.5028 - val_acc: 0.7654\n",
      "Epoch 9/25\n",
      "250/250 [==============================] - 248s 990ms/step - loss: 0.4569 - acc: 0.7821 - val_loss: 0.4604 - val_acc: 0.7930\n",
      "Epoch 10/25\n",
      "250/250 [==============================] - 250s 998ms/step - loss: 0.4393 - acc: 0.7915 - val_loss: 0.4669 - val_acc: 0.7807\n",
      "Epoch 11/25\n",
      "250/250 [==============================] - 248s 994ms/step - loss: 0.4296 - acc: 0.7978 - val_loss: 0.4694 - val_acc: 0.7834\n",
      "Epoch 12/25\n",
      "250/250 [==============================] - 250s 998ms/step - loss: 0.4171 - acc: 0.8099 - val_loss: 0.4612 - val_acc: 0.7835\n",
      "Epoch 13/25\n",
      "250/250 [==============================] - 249s 996ms/step - loss: 0.4099 - acc: 0.8095 - val_loss: 0.4345 - val_acc: 0.8016\n",
      "Epoch 14/25\n",
      "250/250 [==============================] - 258s 1s/step - loss: 0.4116 - acc: 0.8121 - val_loss: 0.4470 - val_acc: 0.7892\n",
      "Epoch 15/25\n",
      "250/250 [==============================] - 249s 996ms/step - loss: 0.3987 - acc: 0.8152 - val_loss: 0.4621 - val_acc: 0.7885\n",
      "Epoch 16/25\n",
      "250/250 [==============================] - 250s 1s/step - loss: 0.3927 - acc: 0.8187 - val_loss: 0.4639 - val_acc: 0.7976\n",
      "Epoch 17/25\n",
      "250/250 [==============================] - 251s 1s/step - loss: 0.3911 - acc: 0.8214 - val_loss: 0.4728 - val_acc: 0.7965\n",
      "Epoch 18/25\n",
      "250/250 [==============================] - 250s 998ms/step - loss: 0.3877 - acc: 0.8256 - val_loss: 0.4481 - val_acc: 0.8064\n",
      "Epoch 19/25\n",
      "250/250 [==============================] - 250s 1s/step - loss: 0.3615 - acc: 0.8365 - val_loss: 0.5038 - val_acc: 0.7883\n",
      "Epoch 20/25\n",
      "250/250 [==============================] - 251s 1s/step - loss: 0.3695 - acc: 0.8335 - val_loss: 0.4485 - val_acc: 0.8051\n",
      "Epoch 21/25\n",
      "250/250 [==============================] - 253s 1s/step - loss: 0.3549 - acc: 0.8331 - val_loss: 0.4493 - val_acc: 0.8031\n",
      "Epoch 22/25\n",
      "250/250 [==============================] - 254s 1s/step - loss: 0.3586 - acc: 0.8400 - val_loss: 0.4312 - val_acc: 0.8073\n",
      "Epoch 23/25\n",
      "250/250 [==============================] - 251s 1s/step - loss: 0.3442 - acc: 0.8446 - val_loss: 0.5709 - val_acc: 0.7762\n",
      "Epoch 24/25\n",
      "250/250 [==============================] - 250s 1s/step - loss: 0.3388 - acc: 0.8481 - val_loss: 0.4888 - val_acc: 0.8051\n",
      "Epoch 25/25\n",
      "250/250 [==============================] - 251s 1s/step - loss: 0.3369 - acc: 0.8529 - val_loss: 0.4443 - val_acc: 0.8210\n"
     ]
    },
    {
     "data": {
      "text/plain": [
       "<keras.callbacks.History at 0x1b3ffd53a58>"
      ]
     },
     "execution_count": 5,
     "metadata": {},
     "output_type": "execute_result"
    }
   ],
   "source": [
    "# Part 2 - Fitting the CNN to the images\n",
    "\n",
    "from keras.preprocessing.image import ImageDataGenerator\n",
    "\n",
    "train_datagen = ImageDataGenerator(rescale = 1./255,\n",
    "                                   shear_range = 0.2,\n",
    "                                   zoom_range = 0.2,\n",
    "                                   horizontal_flip = True)\n",
    "\n",
    "test_datagen = ImageDataGenerator(rescale = 1./255)\n",
    "\n",
    "training_set = train_datagen.flow_from_directory('dataset/training_set',\n",
    "                                                 target_size = (64, 64),\n",
    "                                                 batch_size = 32,\n",
    "                                                 class_mode = 'binary')\n",
    "\n",
    "test_set = test_datagen.flow_from_directory('dataset/test_set',\n",
    "                                            target_size = (64, 64),\n",
    "                                            batch_size = 32,\n",
    "                                            class_mode = 'binary')\n",
    "\n",
    "classifier.fit_generator(training_set,\n",
    "                         samples_per_epoch = 8000,\n",
    "                         nb_epoch = 25,\n",
    "                         validation_data = test_set,\n",
    "                         nb_val_samples = 2000)"
   ]
  },
  {
   "cell_type": "code",
   "execution_count": null,
   "metadata": {},
   "outputs": [],
   "source": []
  }
 ],
 "metadata": {
  "kernelspec": {
   "display_name": "Python 3",
   "language": "python",
   "name": "python3"
  },
  "language_info": {
   "codemirror_mode": {
    "name": "ipython",
    "version": 3
   },
   "file_extension": ".py",
   "mimetype": "text/x-python",
   "name": "python",
   "nbconvert_exporter": "python",
   "pygments_lexer": "ipython3",
   "version": "3.6.6"
  }
 },
 "nbformat": 4,
 "nbformat_minor": 2
}
