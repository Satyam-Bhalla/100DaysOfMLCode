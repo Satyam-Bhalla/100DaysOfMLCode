{
  "nbformat": 4,
  "nbformat_minor": 0,
  "metadata": {
    "colab": {
      "name": "Artificial_neural_network.ipynb",
      "version": "0.3.2",
      "provenance": []
    },
    "kernelspec": {
      "name": "python3",
      "display_name": "Python 3"
    }
  },
  "cells": [
    {
      "metadata": {
        "id": "Fga72JmNjrPk",
        "colab_type": "code",
        "colab": {
          "base_uri": "https://localhost:8080/",
          "height": 34
        },
        "outputId": "5f1e2354-b069-47e7-bc28-674c36f05211"
      },
      "cell_type": "code",
      "source": [
        "# Importing the libraries\n",
        "import numpy as np\n",
        "import matplotlib.pyplot as plt\n",
        "import pandas as pd\n",
        "from sklearn.preprocessing import LabelEncoder, OneHotEncoder\n",
        "from sklearn.model_selection import train_test_split\n",
        "from sklearn.preprocessing import StandardScaler\n",
        "# Importing the Keras libraries and packages\n",
        "import keras\n",
        "from keras.models import Sequential\n",
        "from keras.layers import Dense\n",
        "from sklearn.metrics import confusion_matrix"
      ],
      "execution_count": 1,
      "outputs": [
        {
          "output_type": "stream",
          "text": [
            "Using TensorFlow backend.\n"
          ],
          "name": "stderr"
        }
      ]
    },
    {
      "metadata": {
        "id": "qyqcPxlKRiA-",
        "colab_type": "code",
        "colab": {}
      },
      "cell_type": "code",
      "source": [
        "# Importing the dataset\n",
        "dataset = pd.read_csv('Churn_Modelling.csv')\n",
        "X = dataset.iloc[:, 3:13].values\n",
        "y = dataset.iloc[:, 13].values"
      ],
      "execution_count": 0,
      "outputs": []
    },
    {
      "metadata": {
        "id": "mIE953W_RnVf",
        "colab_type": "code",
        "colab": {
          "base_uri": "https://localhost:8080/",
          "height": 357
        },
        "outputId": "2e616f9e-6b26-46e3-9049-abd5fc44b613"
      },
      "cell_type": "code",
      "source": [
        "print(dataset.head())"
      ],
      "execution_count": 3,
      "outputs": [
        {
          "output_type": "stream",
          "text": [
            "   RowNumber  CustomerId   Surname  CreditScore Geography  Gender  Age  \\\n",
            "0          1    15634602  Hargrave          619    France  Female   42   \n",
            "1          2    15647311      Hill          608     Spain  Female   41   \n",
            "2          3    15619304      Onio          502    France  Female   42   \n",
            "3          4    15701354      Boni          699    France  Female   39   \n",
            "4          5    15737888  Mitchell          850     Spain  Female   43   \n",
            "\n",
            "   Tenure    Balance  NumOfProducts  HasCrCard  IsActiveMember  \\\n",
            "0       2       0.00              1          1               1   \n",
            "1       1   83807.86              1          0               1   \n",
            "2       8  159660.80              3          1               0   \n",
            "3       1       0.00              2          0               0   \n",
            "4       2  125510.82              1          1               1   \n",
            "\n",
            "   EstimatedSalary  Exited  \n",
            "0        101348.88       1  \n",
            "1        112542.58       0  \n",
            "2        113931.57       1  \n",
            "3         93826.63       0  \n",
            "4         79084.10       0  \n"
          ],
          "name": "stdout"
        }
      ]
    },
    {
      "metadata": {
        "id": "lBb9dUrmRp1_",
        "colab_type": "code",
        "colab": {
          "base_uri": "https://localhost:8080/",
          "height": 357
        },
        "outputId": "f2b3e259-c94a-4abe-d1de-368d2a7b15f7"
      },
      "cell_type": "code",
      "source": [
        "print(dataset.tail())"
      ],
      "execution_count": 4,
      "outputs": [
        {
          "output_type": "stream",
          "text": [
            "      RowNumber  CustomerId    Surname  CreditScore Geography  Gender  Age  \\\n",
            "9995       9996    15606229   Obijiaku          771    France    Male   39   \n",
            "9996       9997    15569892  Johnstone          516    France    Male   35   \n",
            "9997       9998    15584532        Liu          709    France  Female   36   \n",
            "9998       9999    15682355  Sabbatini          772   Germany    Male   42   \n",
            "9999      10000    15628319     Walker          792    France  Female   28   \n",
            "\n",
            "      Tenure    Balance  NumOfProducts  HasCrCard  IsActiveMember  \\\n",
            "9995       5       0.00              2          1               0   \n",
            "9996      10   57369.61              1          1               1   \n",
            "9997       7       0.00              1          0               1   \n",
            "9998       3   75075.31              2          1               0   \n",
            "9999       4  130142.79              1          1               0   \n",
            "\n",
            "      EstimatedSalary  Exited  \n",
            "9995         96270.64       0  \n",
            "9996        101699.77       0  \n",
            "9997         42085.58       1  \n",
            "9998         92888.52       1  \n",
            "9999         38190.78       0  \n"
          ],
          "name": "stdout"
        }
      ]
    },
    {
      "metadata": {
        "id": "gQ6Mw0KzeWp-",
        "colab_type": "code",
        "colab": {}
      },
      "cell_type": "code",
      "source": [
        "labelencoder_X_1 = LabelEncoder()\n",
        "X[:, 1] = labelencoder_X_1.fit_transform(X[:, 1])\n",
        "labelencoder_X_2 = LabelEncoder()\n",
        "X[:, 2] = labelencoder_X_2.fit_transform(X[:, 2])\n",
        "onehotencoder = OneHotEncoder(categorical_features = [1])\n",
        "X = onehotencoder.fit_transform(X).toarray()\n",
        "X = X[:, 1:]"
      ],
      "execution_count": 0,
      "outputs": []
    },
    {
      "metadata": {
        "id": "pfHWU8WPhZMH",
        "colab_type": "code",
        "colab": {}
      },
      "cell_type": "code",
      "source": [
        "# Splitting the dataset into the Training set and Test set\n",
        "X_train, X_test, y_train, y_test = train_test_split(X, y, test_size = 0.2, random_state = 0)\n"
      ],
      "execution_count": 0,
      "outputs": []
    },
    {
      "metadata": {
        "id": "U-TlXnlnhgHR",
        "colab_type": "code",
        "colab": {}
      },
      "cell_type": "code",
      "source": [
        "# Feature Scaling\n",
        "sc = StandardScaler()\n",
        "X_train = sc.fit_transform(X_train)\n",
        "X_test = sc.transform(X_test)"
      ],
      "execution_count": 0,
      "outputs": []
    },
    {
      "metadata": {
        "id": "9dhU0SzJhpZI",
        "colab_type": "code",
        "colab": {}
      },
      "cell_type": "code",
      "source": [
        "# Initialising the ANN\n",
        "classifier = Sequential()\n",
        "\n",
        "# Adding the input layer and the first hidden layer\n",
        "classifier.add(Dense(6,kernel_initializer = 'uniform', activation = 'relu', input_dim = 11))\n",
        "\n",
        "# Adding the second hidden layer\n",
        "classifier.add(Dense(6, kernel_initializer = 'uniform', activation = 'relu'))\n",
        "\n",
        "# Adding the output layer\n",
        "classifier.add(Dense(1, kernel_initializer = 'uniform', activation = 'sigmoid'))"
      ],
      "execution_count": 0,
      "outputs": []
    },
    {
      "metadata": {
        "id": "dEE2Xgx1n-ck",
        "colab_type": "code",
        "colab": {}
      },
      "cell_type": "code",
      "source": [
        "# Compiling the ANN\n",
        "classifier.compile(optimizer = 'adam', loss = 'binary_crossentropy', metrics = ['accuracy'])\n"
      ],
      "execution_count": 0,
      "outputs": []
    },
    {
      "metadata": {
        "id": "2-7qDpd-rl_V",
        "colab_type": "code",
        "colab": {
          "base_uri": "https://localhost:8080/",
          "height": 3434
        },
        "outputId": "aad1050d-06f0-4fc4-88ea-573e8d875abb"
      },
      "cell_type": "code",
      "source": [
        "# Fitting the ANN to the Training set\n",
        "classifier.fit(X_train, y_train, batch_size = 10, epochs = 100)"
      ],
      "execution_count": 10,
      "outputs": [
        {
          "output_type": "stream",
          "text": [
            "Epoch 1/100\n",
            "8000/8000 [==============================] - 1s 125us/step - loss: 0.4921 - acc: 0.7952\n",
            "Epoch 2/100\n",
            "8000/8000 [==============================] - 1s 103us/step - loss: 0.4289 - acc: 0.7960\n",
            "Epoch 3/100\n",
            "8000/8000 [==============================] - 1s 92us/step - loss: 0.4254 - acc: 0.7960\n",
            "Epoch 4/100\n",
            "8000/8000 [==============================] - 1s 91us/step - loss: 0.4213 - acc: 0.8032\n",
            "Epoch 5/100\n",
            "8000/8000 [==============================] - 1s 92us/step - loss: 0.4186 - acc: 0.8230\n",
            "Epoch 6/100\n",
            "8000/8000 [==============================] - 1s 91us/step - loss: 0.4162 - acc: 0.8249\n",
            "Epoch 7/100\n",
            "8000/8000 [==============================] - 1s 91us/step - loss: 0.4146 - acc: 0.8311\n",
            "Epoch 8/100\n",
            "8000/8000 [==============================] - 1s 91us/step - loss: 0.4132 - acc: 0.8302\n",
            "Epoch 9/100\n",
            "8000/8000 [==============================] - 1s 91us/step - loss: 0.4119 - acc: 0.8331\n",
            "Epoch 10/100\n",
            "8000/8000 [==============================] - 1s 90us/step - loss: 0.4109 - acc: 0.8324\n",
            "Epoch 11/100\n",
            "8000/8000 [==============================] - 1s 91us/step - loss: 0.4094 - acc: 0.8340\n",
            "Epoch 12/100\n",
            "8000/8000 [==============================] - 1s 91us/step - loss: 0.4095 - acc: 0.8326\n",
            "Epoch 13/100\n",
            "8000/8000 [==============================] - 1s 91us/step - loss: 0.4087 - acc: 0.8335\n",
            "Epoch 14/100\n",
            "8000/8000 [==============================] - 1s 92us/step - loss: 0.4080 - acc: 0.8344\n",
            "Epoch 15/100\n",
            "8000/8000 [==============================] - 1s 92us/step - loss: 0.4076 - acc: 0.8340\n",
            "Epoch 16/100\n",
            "8000/8000 [==============================] - 1s 91us/step - loss: 0.4066 - acc: 0.8344\n",
            "Epoch 17/100\n",
            "8000/8000 [==============================] - 1s 91us/step - loss: 0.4062 - acc: 0.8355\n",
            "Epoch 18/100\n",
            "8000/8000 [==============================] - 1s 93us/step - loss: 0.4059 - acc: 0.8354\n",
            "Epoch 19/100\n",
            "8000/8000 [==============================] - 1s 91us/step - loss: 0.4052 - acc: 0.8356\n",
            "Epoch 20/100\n",
            "8000/8000 [==============================] - 1s 93us/step - loss: 0.4054 - acc: 0.8351\n",
            "Epoch 21/100\n",
            "8000/8000 [==============================] - 1s 91us/step - loss: 0.4049 - acc: 0.8352\n",
            "Epoch 22/100\n",
            "8000/8000 [==============================] - 1s 91us/step - loss: 0.4041 - acc: 0.8354\n",
            "Epoch 23/100\n",
            "8000/8000 [==============================] - 1s 91us/step - loss: 0.4037 - acc: 0.8365\n",
            "Epoch 24/100\n",
            "8000/8000 [==============================] - 1s 91us/step - loss: 0.4043 - acc: 0.8340\n",
            "Epoch 25/100\n",
            "8000/8000 [==============================] - 1s 93us/step - loss: 0.4032 - acc: 0.8357\n",
            "Epoch 26/100\n",
            "8000/8000 [==============================] - 1s 92us/step - loss: 0.4037 - acc: 0.8345\n",
            "Epoch 27/100\n",
            "8000/8000 [==============================] - 1s 90us/step - loss: 0.4032 - acc: 0.8366\n",
            "Epoch 28/100\n",
            "8000/8000 [==============================] - 1s 90us/step - loss: 0.4027 - acc: 0.8359\n",
            "Epoch 29/100\n",
            "8000/8000 [==============================] - 1s 90us/step - loss: 0.4031 - acc: 0.8369\n",
            "Epoch 30/100\n",
            "8000/8000 [==============================] - 1s 90us/step - loss: 0.4026 - acc: 0.8347\n",
            "Epoch 31/100\n",
            "8000/8000 [==============================] - 1s 88us/step - loss: 0.4026 - acc: 0.8349\n",
            "Epoch 32/100\n",
            "8000/8000 [==============================] - 1s 90us/step - loss: 0.4024 - acc: 0.8356\n",
            "Epoch 33/100\n",
            "8000/8000 [==============================] - 1s 91us/step - loss: 0.4020 - acc: 0.8354\n",
            "Epoch 34/100\n",
            "8000/8000 [==============================] - 1s 90us/step - loss: 0.4019 - acc: 0.8342\n",
            "Epoch 35/100\n",
            "8000/8000 [==============================] - 1s 90us/step - loss: 0.4008 - acc: 0.8339\n",
            "Epoch 36/100\n",
            "8000/8000 [==============================] - 1s 90us/step - loss: 0.4005 - acc: 0.8365\n",
            "Epoch 37/100\n",
            "8000/8000 [==============================] - 1s 90us/step - loss: 0.4000 - acc: 0.8359\n",
            "Epoch 38/100\n",
            "8000/8000 [==============================] - 1s 90us/step - loss: 0.3998 - acc: 0.8350\n",
            "Epoch 39/100\n",
            "8000/8000 [==============================] - 1s 90us/step - loss: 0.3992 - acc: 0.8355\n",
            "Epoch 40/100\n",
            "8000/8000 [==============================] - 1s 90us/step - loss: 0.3989 - acc: 0.8357\n",
            "Epoch 41/100\n",
            "8000/8000 [==============================] - 1s 92us/step - loss: 0.3990 - acc: 0.8344\n",
            "Epoch 42/100\n",
            "8000/8000 [==============================] - 1s 90us/step - loss: 0.3980 - acc: 0.8356\n",
            "Epoch 43/100\n",
            "8000/8000 [==============================] - 1s 91us/step - loss: 0.3979 - acc: 0.8344\n",
            "Epoch 44/100\n",
            "8000/8000 [==============================] - 1s 91us/step - loss: 0.3976 - acc: 0.8369\n",
            "Epoch 45/100\n",
            "8000/8000 [==============================] - 1s 91us/step - loss: 0.3979 - acc: 0.8346\n",
            "Epoch 46/100\n",
            "8000/8000 [==============================] - 1s 94us/step - loss: 0.3971 - acc: 0.8356\n",
            "Epoch 47/100\n",
            "8000/8000 [==============================] - 1s 91us/step - loss: 0.3969 - acc: 0.8355\n",
            "Epoch 48/100\n",
            "8000/8000 [==============================] - 1s 92us/step - loss: 0.3967 - acc: 0.8355\n",
            "Epoch 49/100\n",
            "8000/8000 [==============================] - 1s 91us/step - loss: 0.3964 - acc: 0.8335\n",
            "Epoch 50/100\n",
            "8000/8000 [==============================] - 1s 91us/step - loss: 0.3960 - acc: 0.8334\n",
            "Epoch 51/100\n",
            "8000/8000 [==============================] - 1s 90us/step - loss: 0.3959 - acc: 0.8371\n",
            "Epoch 52/100\n",
            "8000/8000 [==============================] - 1s 92us/step - loss: 0.3958 - acc: 0.8355\n",
            "Epoch 53/100\n",
            "8000/8000 [==============================] - 1s 90us/step - loss: 0.3950 - acc: 0.8356\n",
            "Epoch 54/100\n",
            "8000/8000 [==============================] - 1s 90us/step - loss: 0.3959 - acc: 0.8359\n",
            "Epoch 55/100\n",
            "8000/8000 [==============================] - 1s 91us/step - loss: 0.3954 - acc: 0.8370\n",
            "Epoch 56/100\n",
            "8000/8000 [==============================] - 1s 90us/step - loss: 0.3952 - acc: 0.8364\n",
            "Epoch 57/100\n",
            "8000/8000 [==============================] - 1s 91us/step - loss: 0.3947 - acc: 0.8374\n",
            "Epoch 58/100\n",
            "8000/8000 [==============================] - 1s 91us/step - loss: 0.3950 - acc: 0.8362\n",
            "Epoch 59/100\n",
            "8000/8000 [==============================] - 1s 92us/step - loss: 0.3944 - acc: 0.8351\n",
            "Epoch 60/100\n",
            "8000/8000 [==============================] - 1s 90us/step - loss: 0.3947 - acc: 0.8354\n",
            "Epoch 61/100\n",
            "8000/8000 [==============================] - 1s 90us/step - loss: 0.3949 - acc: 0.8369\n",
            "Epoch 62/100\n",
            "8000/8000 [==============================] - 1s 92us/step - loss: 0.3943 - acc: 0.8361\n",
            "Epoch 63/100\n",
            "8000/8000 [==============================] - 1s 90us/step - loss: 0.3949 - acc: 0.8355\n",
            "Epoch 64/100\n",
            "8000/8000 [==============================] - 1s 92us/step - loss: 0.3940 - acc: 0.8376\n",
            "Epoch 65/100\n",
            "8000/8000 [==============================] - 1s 90us/step - loss: 0.3944 - acc: 0.8374\n",
            "Epoch 66/100\n",
            "8000/8000 [==============================] - 1s 91us/step - loss: 0.3938 - acc: 0.8367\n",
            "Epoch 67/100\n",
            "8000/8000 [==============================] - 1s 90us/step - loss: 0.3943 - acc: 0.8364\n",
            "Epoch 68/100\n",
            "8000/8000 [==============================] - 1s 89us/step - loss: 0.3941 - acc: 0.8369\n",
            "Epoch 69/100\n",
            "8000/8000 [==============================] - 1s 91us/step - loss: 0.3933 - acc: 0.8376\n",
            "Epoch 70/100\n",
            "8000/8000 [==============================] - 1s 91us/step - loss: 0.3939 - acc: 0.8377\n",
            "Epoch 71/100\n",
            "8000/8000 [==============================] - 1s 91us/step - loss: 0.3942 - acc: 0.8375\n",
            "Epoch 72/100\n",
            "8000/8000 [==============================] - 1s 93us/step - loss: 0.3939 - acc: 0.8377\n",
            "Epoch 73/100\n",
            "8000/8000 [==============================] - 1s 92us/step - loss: 0.3939 - acc: 0.8385\n",
            "Epoch 74/100\n",
            "8000/8000 [==============================] - 1s 91us/step - loss: 0.3938 - acc: 0.8364\n",
            "Epoch 75/100\n",
            "8000/8000 [==============================] - 1s 91us/step - loss: 0.3937 - acc: 0.8385\n",
            "Epoch 76/100\n",
            "8000/8000 [==============================] - 1s 92us/step - loss: 0.3934 - acc: 0.8384\n",
            "Epoch 77/100\n",
            "8000/8000 [==============================] - 1s 91us/step - loss: 0.3934 - acc: 0.8369\n",
            "Epoch 78/100\n",
            "8000/8000 [==============================] - 1s 88us/step - loss: 0.3938 - acc: 0.8384\n",
            "Epoch 79/100\n",
            "8000/8000 [==============================] - 1s 91us/step - loss: 0.3937 - acc: 0.8391\n",
            "Epoch 80/100\n",
            "8000/8000 [==============================] - 1s 92us/step - loss: 0.3934 - acc: 0.8365\n",
            "Epoch 81/100\n",
            "8000/8000 [==============================] - 1s 91us/step - loss: 0.3929 - acc: 0.8369\n",
            "Epoch 82/100\n",
            "8000/8000 [==============================] - 1s 91us/step - loss: 0.3934 - acc: 0.8392\n",
            "Epoch 83/100\n",
            "8000/8000 [==============================] - 1s 92us/step - loss: 0.3935 - acc: 0.8380\n",
            "Epoch 84/100\n",
            "8000/8000 [==============================] - 1s 89us/step - loss: 0.3934 - acc: 0.8386\n",
            "Epoch 85/100\n",
            "8000/8000 [==============================] - 1s 90us/step - loss: 0.3943 - acc: 0.8374\n",
            "Epoch 86/100\n",
            "8000/8000 [==============================] - 1s 90us/step - loss: 0.3936 - acc: 0.8382\n",
            "Epoch 87/100\n",
            "8000/8000 [==============================] - 1s 90us/step - loss: 0.3934 - acc: 0.8367\n",
            "Epoch 88/100\n",
            "8000/8000 [==============================] - 1s 89us/step - loss: 0.3932 - acc: 0.8386\n",
            "Epoch 89/100\n",
            "8000/8000 [==============================] - 1s 92us/step - loss: 0.3938 - acc: 0.8381\n",
            "Epoch 90/100\n",
            "8000/8000 [==============================] - 1s 92us/step - loss: 0.3933 - acc: 0.8380\n",
            "Epoch 91/100\n",
            "8000/8000 [==============================] - 1s 91us/step - loss: 0.3936 - acc: 0.8376\n",
            "Epoch 92/100\n",
            "8000/8000 [==============================] - 1s 91us/step - loss: 0.3938 - acc: 0.8389\n",
            "Epoch 93/100\n",
            "8000/8000 [==============================] - 1s 91us/step - loss: 0.3925 - acc: 0.8379\n",
            "Epoch 94/100\n",
            "8000/8000 [==============================] - 1s 91us/step - loss: 0.3931 - acc: 0.8390\n",
            "Epoch 95/100\n",
            "8000/8000 [==============================] - 1s 90us/step - loss: 0.3933 - acc: 0.8387\n",
            "Epoch 96/100\n",
            "8000/8000 [==============================] - 1s 89us/step - loss: 0.3930 - acc: 0.8369\n",
            "Epoch 97/100\n",
            "8000/8000 [==============================] - 1s 90us/step - loss: 0.3932 - acc: 0.8370\n",
            "Epoch 98/100\n",
            "8000/8000 [==============================] - 1s 89us/step - loss: 0.3938 - acc: 0.8374\n",
            "Epoch 99/100\n",
            "8000/8000 [==============================] - 1s 88us/step - loss: 0.3933 - acc: 0.8372\n",
            "Epoch 100/100\n",
            "8000/8000 [==============================] - 1s 91us/step - loss: 0.3933 - acc: 0.8374\n"
          ],
          "name": "stdout"
        },
        {
          "output_type": "execute_result",
          "data": {
            "text/plain": [
              "<keras.callbacks.History at 0x7f001bf34278>"
            ]
          },
          "metadata": {
            "tags": []
          },
          "execution_count": 10
        }
      ]
    },
    {
      "metadata": {
        "id": "3YFAChcgrrER",
        "colab_type": "code",
        "colab": {}
      },
      "cell_type": "code",
      "source": [
        "# Part 3 - Making the predictions and evaluating the model\n",
        "\n",
        "# Predicting the Test set results\n",
        "y_pred = classifier.predict(X_test)\n",
        "y_pred = (y_pred > 0.5)"
      ],
      "execution_count": 0,
      "outputs": []
    },
    {
      "metadata": {
        "id": "VkGmmho0vr45",
        "colab_type": "code",
        "colab": {
          "base_uri": "https://localhost:8080/",
          "height": 51
        },
        "outputId": "77b9d119-f3ee-4671-8676-24ba1a0a0e7b"
      },
      "cell_type": "code",
      "source": [
        "# Making the Confusion Matrix\n",
        "cm = confusion_matrix(y_test, y_pred)\n",
        "print(cm)"
      ],
      "execution_count": 12,
      "outputs": [
        {
          "output_type": "stream",
          "text": [
            "[[1542   53]\n",
            " [ 261  144]]\n"
          ],
          "name": "stdout"
        }
      ]
    },
    {
      "metadata": {
        "id": "H-5rCHmVvw9I",
        "colab_type": "code",
        "colab": {}
      },
      "cell_type": "code",
      "source": [
        ""
      ],
      "execution_count": 0,
      "outputs": []
    }
  ]
}